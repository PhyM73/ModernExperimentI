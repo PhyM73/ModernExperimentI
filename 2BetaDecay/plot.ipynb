{
 "cells": [
  {
   "cell_type": "code",
   "execution_count": 41,
   "metadata": {},
   "outputs": [],
   "source": [
    "import numpy as np\n",
    "import matplotlib.pyplot as plt\n",
    "from scipy.signal import argrelextrema as extre\n",
    "from scipy.optimize import curve_fit as fit\n",
    "\n",
    "def gauss(x, a, mu, sigma):\n",
    "    return a*np.exp(-(x-mu)**2/(2.*sigma**2))"
   ]
  },
  {
   "cell_type": "code",
   "execution_count": 81,
   "metadata": {},
   "outputs": [],
   "source": [
    "import os\n",
    "\n",
    "def loaddata(rootpath, isex=True):\n",
    "    data = {}\n",
    "    for path in os.listdir(rootpath):\n",
    "        if path.startswith('.'): \n",
    "            continue\n",
    "        subpath = rootpath+'/'+path+'/'\n",
    "        file = [i for i in os.listdir(subpath) if i.endswith('txt')]\n",
    "        \n",
    "        # load data, and divide by livetime if it is from experiments\n",
    "        if isex:\n",
    "            data[path[:3]] = {i[:-8] : np.genfromtxt(subpath+i,delimiter=' ')[:,1]/int(i[-7:-4]) for i in file}\n",
    "        else:\n",
    "            data[path[:3]] = {i[:-4] : np.genfromtxt(subpath+i,delimiter=' ')[:,1] for i in file}\n",
    "    return data\n",
    "\n",
    "ex = loaddata('./20201021')\n",
    "mc = loaddata('./20201021MC', isex = False)"
   ]
  },
  {
   "cell_type": "code",
   "execution_count": 82,
   "metadata": {},
   "outputs": [],
   "source": [
    "channel = np.array(range(512))"
   ]
  },
  {
   "cell_type": "code",
   "execution_count": 83,
   "metadata": {},
   "outputs": [],
   "source": [
    "def smooth(series,strength=3):\n",
    "    return np.convolve(series, np.ones(2*strength+1)/(2*strength+1), mode='same' )"
   ]
  },
  {
   "cell_type": "code",
   "execution_count": 88,
   "metadata": {},
   "outputs": [],
   "source": [
    "def exbkg(data):\n",
    "    lvc = extre(smooth(data), np.less, order = 20,mode = 'wrap')[0][0] #左边界\n",
    "    pkc = extre(data[50:], np.greater, order = 60,mode='wrap')[0][-1] + 50\n",
    "    rvc = min(2*pkc-lvc,511) #右边界\n",
    "\n",
    "    lvh = np.average(data[lvc-3:lvc+4])\n",
    "    rvh = np.average(data[rvc-3:rvc+4])\n",
    "    delta_rl= lvh-rvh\n",
    "    sum_rl = np.sum(data[lvc:rvc+1])\n",
    "\n",
    "    bkg = np.array([np.sum(data[lvc+i:rvc+1])/sum_rl*delta_rl + rvh for i in range(rvc+1-lvc)])\n",
    "    sig = data[lvc:rvc+1] - bkg\n",
    "    sig = np.concatenate((np.zeros(lvc),sig,np.zeros(511-rvc)))\n",
    "    \n",
    "    return sig, lvc, pkc, rvc"
   ]
  },
  {
   "cell_type": "code",
   "execution_count": 89,
   "metadata": {},
   "outputs": [],
   "source": [
    "def findpeak(data):\n",
    "    sig, lvc, pkc, rvc = exbkg(data)\n",
    "    p0= np.array([0,0,0])\n",
    "    p = np.array([sig[pkc], pkc, (rvc-lvc)/2]) # a, mu, sigma\n",
    "    var = np.array([0,0,0])\n",
    "    \n",
    "    win = channel[np.logical_and(p[1]-p[2]-1<channel,channel<p[1]+p[2]+1)] # window\n",
    "\n",
    "    while np.any(np.absolute(p-p0) > 0):\n",
    "        p0 = p \n",
    "        popt, pcov = fit(gauss,win,sig[win], p0=p0)\n",
    "        p = np.absolute(popt)\n",
    "        var = np.array([np.sqrt(pcov[i,i]) for i in range(3)])\n",
    "        win = channel[np.logical_and(p[1]-p[2]-1<channel,channel<p[1]+p[2]+1)] # window\n",
    "        \n",
    "    return popt, var "
   ]
  },
  {
   "cell_type": "code",
   "execution_count": 92,
   "metadata": {},
   "outputs": [
    {
     "name": "stdout",
     "output_type": "stream",
     "text": [
      "[ 3.99371966 95.19127649 11.9055717 ]\n",
      "[  6.34580598 152.46358093  12.26670308]\n",
      "[  6.43724556 212.87922113  13.16515847]\n",
      "[  5.22678139 264.99049351  14.20159116]\n",
      "[  3.37128857 322.38889953  15.43195859]\n",
      "[  1.4781403  380.43187826  16.53054708]\n",
      "[3.16217662e-01 4.36813339e+02 1.69722713e+01]\n"
     ]
    }
   ],
   "source": [
    "for name, data in ex['Vac'].items():\n",
    "    popt, var = findpeak(data)\n",
    "    print(popt)\n",
    "    #     print(data)\n",
    "#     print(ex['Vac'].keys())\n",
    "vacpeak = [findpeak(data) for data in ex['Vac'].values()]\n",
    "    "
   ]
  },
  {
   "cell_type": "code",
   "execution_count": 96,
   "metadata": {},
   "outputs": [
    {
     "data": {
      "image/png": "[encoded data removed]",
      "text/plain": [
       "<Figure size 432x288 with 1 Axes>"
      ]
     },
     "metadata": {
      "needs_background": "light"
     },
     "output_type": "display_data"
    }
   ],
   "source": [
    "fig = plt.figure()\n",
    "axi = fig.add_subplot(111)\n",
    "\n",
    "# for name, data in ex['Air'].items():\n",
    "#     axi.plot(channel,smooth(data,2))\n",
    "# axi.plot(channel[lvc:rvc+1],sig, '.', markersize=1)\n",
    "# axi.plot(channel[lvc:rvc+1],bkg, '.', markersize=1)\n",
    "\n",
    "axi.plot(range(7),[i[0][1]for i in vacpeak],'.')\n",
    "\n",
    "plt.show()"
   ]
  },
  {
   "cell_type": "code",
   "execution_count": null,
   "metadata": {},
   "outputs": [],
   "source": []
  },
  {
   "cell_type": "code",
   "execution_count": 7,
   "metadata": {},
   "outputs": [],
   "source": [
    "# lwin = channel[np.logical_and(mu-1.5*sigma<channel,channel<mu-0.8*sigma)]   \n",
    "# rwin = channel[np.logical_and(mu+0.8*sigma<channel,channel<mu+1.5*sigma)]\n",
    "# lp = np.polyfit(lwin, sig[lwin-lvc], 5)\n",
    "# rp = np.polyfit(rwin, sig[rwin-lvc], 5)\n",
    "# axi.plot(lwin,np.poly1d(lp)(lwin))\n",
    "# axi.plot(rwin,np.poly1d(rp)(rwin))\n"
   ]
  },
  {
   "cell_type": "code",
   "execution_count": null,
   "metadata": {},
   "outputs": [],
   "source": []
  }
 ],
 "metadata": {
  "kernelspec": {
   "display_name": "Python 3",
   "language": "python",
   "name": "python3"
  },
  "language_info": {
   "codemirror_mode": {
    "name": "ipython",
    "version": 3
   },
   "file_extension": ".py",
   "mimetype": "text/x-python",
   "name": "python",
   "nbconvert_exporter": "python",
   "pygments_lexer": "ipython3",
   "version": "3.8.3"
  }
 },
 "nbformat": 4,
 "nbformat_minor": 4
}
