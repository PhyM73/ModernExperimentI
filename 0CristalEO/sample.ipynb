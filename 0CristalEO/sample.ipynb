{
 "cells": [
  {
   "cell_type": "code",
   "execution_count": 54,
   "metadata": {},
   "outputs": [],
   "source": [
    "import matplotlib.pyplot as plt\n",
    "import numpy as np\n",
    "\n",
    "sets = ['A // P, S$=293^\\circ$','A$\\perp$P, S$=203^\\circ$','A$\\perp$P','A$\\perp$P, S$=293^\\circ$','A // P, S$=203^\\circ$','A//P']\n",
    "names =['$V_{\\mathrm{DMS4}}$','$V_{\\mathrm{DMS1}}$','$V_{\\mathrm{DM1}}$','$V_{\\mathrm{DMS3}}$','$V_{\\mathrm{DMS2}}$','$V_{\\mathrm{DM2}}$']\n",
    "voltages = (-1121.,-621.,-222.,329.,888.,1251.)\n",
    "levels = np.array([-0.1,-0.1,0.1,-0.1,-0.1,0.1])\n",
    "vlevels = -levels/10"
   ]
  },
  {
   "cell_type": "code",
   "execution_count": 54,
   "metadata": {},
   "outputs": [],
   "source": [
    "# Create figure and plot a stem plot with the date\n",
    "fig, ax = plt.subplots(figsize=(10, 2), constrained_layout=True)\n",
    "\n",
    "ax.vlines(voltages, 0, levels, color=\"tab:red\")  # The vertical stems.\n",
    "ax.plot(voltages, np.zeros_like(voltages), \"-o\",\n",
    "        color=\"k\", markerfacecolor=\"w\")  # Baseline and markers on it."
   ]
  },
  {
   "cell_type": "code",
   "execution_count": 54,
   "metadata": {},
   "outputs": [],
   "source": [
    "# annotate lines\n",
    "for d, l, s in zip(voltages, levels, sets):\n",
    "    ax.annotate(s, xy=(d, l),\n",
    "                xytext=(-3, np.sign(l)*3), textcoords=\"offset points\",\n",
    "                horizontalalignment=\"center\",\n",
    "                verticalalignment=\"bottom\" if l > 0 else \"top\")\n",
    "\n",
    "for d, l, n in zip(voltages, vlevels, names):\n",
    "    ax.annotate(n, xy=(d, l),\n",
    "                xytext=(-3, np.sign(l)*3), textcoords=\"offset points\",\n",
    "                horizontalalignment=\"center\",\n",
    "                verticalalignment=\"bottom\" if l > 0 else \"top\")"
   ]
  },
  {
   "cell_type": "code",
   "execution_count": 54,
   "metadata": {},
   "outputs": [
    {
     "data": {
      "image/png": "[encoded data removed]",
      "text/plain": [
       "<Figure size 720x144 with 1 Axes>"
      ]
     },
     "metadata": {
      "needs_background": "light"
     },
     "output_type": "display_data"
    }
   ],
   "source": [
    "# remove y axis and spines\n",
    "ax.get_yaxis().set_visible(False)\n",
    "for spine in [\"left\", \"top\", \"right\"]:\n",
    "    ax.spines[spine].set_visible(False)\n",
    "\n",
    "ax.margins(y=0.5)\n",
    "plt.savefig('pic/sample.png',dpi=350)\n",
    "plt.show()"
   ]
  },
  {
   "cell_type": "code",
   "execution_count": null,
   "metadata": {},
   "outputs": [],
   "source": []
  }
 ],
 "metadata": {
  "kernelspec": {
   "display_name": "Python 3",
   "language": "python",
   "name": "python3"
  },
  "language_info": {
   "codemirror_mode": {
    "name": "ipython",
    "version": 3
   },
   "file_extension": ".py",
   "mimetype": "text/x-python",
   "name": "python",
   "nbconvert_exporter": "python",
   "pygments_lexer": "ipython3",
   "version": "3.8.3"
  }
 },
 "nbformat": 4,
 "nbformat_minor": 4
}
