{
 "cells": [
  {
   "cell_type": "code",
   "execution_count": 52,
   "metadata": {},
   "outputs": [
    {
     "name": "stdout",
     "output_type": "stream",
     "text": [
      "1449.6451096951498 24.061159915665687\n"
     ]
    }
   ],
   "source": [
    "import numpy as np\n",
    "import matplotlib.pyplot as plt\n",
    "\n",
    "# data\n",
    "x = (1473, 1433, 1419, 1395, 1450)\n",
    "y = np.arange(len(x))\n",
    "error = (30, 95, 150, 49, 150)\n",
    "\n",
    "result, r_error = 0, 0\n",
    "\n",
    "for i in range(len(x)):\n",
    "    result += x[i]/error[i]**2\n",
    "    r_error += 1/error[i]**2\n",
    "    \n",
    "result /= r_error\n",
    "r_error = np.sqrt(1/r_error)\n",
    "print(result,r_error)"
   ]
  },
  {
   "cell_type": "code",
   "execution_count": 53,
   "metadata": {},
   "outputs": [
    {
     "data": {
      "image/png": "[encoded data removed]",
      "text/plain": [
       "<Figure size 432x288 with 1 Axes>"
      ]
     },
     "metadata": {
      "needs_background": "light"
     },
     "output_type": "display_data"
    }
   ],
   "source": [
    "fig, ax = plt.subplots()\n",
    "\n",
    "ax.errorbar(x, y, xerr=error, fmt='o')\n",
    "ax.vlines(result, 0, 1, colors='r',transform=ax.get_xaxis_transform())\n",
    "ax.fill_between((result - r_error, result + r_error), 0, 1, color='yellow', alpha=0.5, \n",
    "                transform=ax.get_xaxis_transform())\n",
    "\n",
    "ax.set_yticks(y)\n",
    "ax.set_yticklabels(('Modulation','P \\\\\\\\ A, Fit','P \\\\\\\\ A, Peak','P$\\perp$A, Fit','P$\\perp$A, Peak'))\n",
    "\n",
    "font = {'family': 'serif',\n",
    "        'weight': 'normal',\n",
    "        'size':18,\n",
    "        }\n",
    "ax.set_xlabel('$V_{\\pi}$/V',fontdict=font)\n",
    "fig.tight_layout()\n",
    "plt.savefig('halfv.png',dpi=350)\n",
    "plt.show()"
   ]
  },
  {
   "cell_type": "code",
   "execution_count": null,
   "metadata": {},
   "outputs": [],
   "source": []
  },
  {
   "cell_type": "code",
   "execution_count": null,
   "metadata": {},
   "outputs": [],
   "source": []
  }
 ],
 "metadata": {
  "kernelspec": {
   "display_name": "Python 3",
   "language": "python",
   "name": "python3"
  },
  "language_info": {
   "codemirror_mode": {
    "name": "ipython",
    "version": 3
   },
   "file_extension": ".py",
   "mimetype": "text/x-python",
   "name": "python",
   "nbconvert_exporter": "python",
   "pygments_lexer": "ipython3",
   "version": "3.8.3"
  }
 },
 "nbformat": 4,
 "nbformat_minor": 4
}
